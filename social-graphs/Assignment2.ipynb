{
 "cells": [
  {
   "cell_type": "markdown",
   "id": "1529dcfb",
   "metadata": {},
   "source": [
    "## Social graphs & intercations\n",
    "- Assignment 2\n",
    "- Submission date: November 4th 2025\n",
    "\n",
    "### Group 101\n",
    "- Aryan Mirzazadeh - s204489\n",
    "- Juan Manuel Rodriguez - s253505 \n",
    "- Vladyslav Horbatenko - s254355\n",
    "\n",
    "### Contributions\n",
    "\n",
    "- Aryan:\n",
    "- Juan:\n",
    "- Vlad:"
   ]
  }
 ],
 "metadata": {
  "language_info": {
   "name": "python"
  }
 },
 "nbformat": 4,
 "nbformat_minor": 5
}
