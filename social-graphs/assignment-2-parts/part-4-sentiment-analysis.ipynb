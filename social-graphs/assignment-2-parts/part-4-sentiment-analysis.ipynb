{
 "cells": [
  {
   "cell_type": "markdown",
   "id": "13b45df1",
   "metadata": {},
   "source": [
    "# Part 4: Sentiment of the artists and communities\n",
    "\n",
    "The questions below are based on Lecture 8\n",
    "\n",
    "* Calculate the sentiment of the band/artist pages (it is OK to work with the sub-network of artists-with-genre) and describe your findings using stats and visualization, inspired by the first exercise of week 8.\n",
    "* Discuss the sentiment of the communities. Do the findings using TF-IDF during Lecture 7 help you understand your results?"
   ]
  }
 ],
 "metadata": {
  "language_info": {
   "name": "python"
  }
 },
 "nbformat": 4,
 "nbformat_minor": 5
}
