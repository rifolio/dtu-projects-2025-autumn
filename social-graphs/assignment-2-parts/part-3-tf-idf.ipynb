{
 "cells": [
  {
   "cell_type": "markdown",
   "id": "e408e136",
   "metadata": {},
   "source": [
    "# Part 3: TF-IDF to understand genres and communities \n",
    "\n",
    "The questions below  are based on Lecture 7, part 2, 4, 5, 6 (and a little bit on part 3).\n",
    "\n",
    "* Explain the concept of TF-IDF in your own words and how it can help you understand the genres and communities.\n",
    "* Calculate and visualize TF-IDF for the genres and communities.\n",
    "* Use the matrix $D$ (Lecture 7, part 2) to dicusss the difference between the word-clouds between genres and communities."
   ]
  }
 ],
 "metadata": {
  "language_info": {
   "name": "python"
  }
 },
 "nbformat": 4,
 "nbformat_minor": 5
}
