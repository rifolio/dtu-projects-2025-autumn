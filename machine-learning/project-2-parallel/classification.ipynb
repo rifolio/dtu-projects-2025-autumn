{
 "cells": [
  {
   "cell_type": "markdown",
   "id": "4c64e89f",
   "metadata": {},
   "source": [
    "# Data Setup"
   ]
  },
  {
   "cell_type": "code",
   "execution_count": 22,
   "id": "491baf93",
   "metadata": {},
   "outputs": [
    {
     "data": {
      "text/html": [
       "<div>\n",
       "<style scoped>\n",
       "    .dataframe tbody tr th:only-of-type {\n",
       "        vertical-align: middle;\n",
       "    }\n",
       "\n",
       "    .dataframe tbody tr th {\n",
       "        vertical-align: top;\n",
       "    }\n",
       "\n",
       "    .dataframe thead th {\n",
       "        text-align: right;\n",
       "    }\n",
       "</style>\n",
       "<table border=\"1\" class=\"dataframe\">\n",
       "  <thead>\n",
       "    <tr style=\"text-align: right;\">\n",
       "      <th></th>\n",
       "      <th>sbp</th>\n",
       "      <th>ldl</th>\n",
       "      <th>adiposity</th>\n",
       "      <th>obesity</th>\n",
       "      <th>typea</th>\n",
       "      <th>age</th>\n",
       "      <th>tobacco</th>\n",
       "      <th>alcohol</th>\n",
       "      <th>famhist</th>\n",
       "      <th>chd</th>\n",
       "    </tr>\n",
       "    <tr>\n",
       "      <th>row.names</th>\n",
       "      <th></th>\n",
       "      <th></th>\n",
       "      <th></th>\n",
       "      <th></th>\n",
       "      <th></th>\n",
       "      <th></th>\n",
       "      <th></th>\n",
       "      <th></th>\n",
       "      <th></th>\n",
       "      <th></th>\n",
       "    </tr>\n",
       "  </thead>\n",
       "  <tbody>\n",
       "    <tr>\n",
       "      <th>1</th>\n",
       "      <td>160</td>\n",
       "      <td>5.73</td>\n",
       "      <td>23.11</td>\n",
       "      <td>25.30</td>\n",
       "      <td>49</td>\n",
       "      <td>52</td>\n",
       "      <td>12.00</td>\n",
       "      <td>97.20</td>\n",
       "      <td>Present</td>\n",
       "      <td>1</td>\n",
       "    </tr>\n",
       "    <tr>\n",
       "      <th>2</th>\n",
       "      <td>144</td>\n",
       "      <td>4.41</td>\n",
       "      <td>28.61</td>\n",
       "      <td>28.87</td>\n",
       "      <td>55</td>\n",
       "      <td>63</td>\n",
       "      <td>0.01</td>\n",
       "      <td>2.06</td>\n",
       "      <td>Absent</td>\n",
       "      <td>1</td>\n",
       "    </tr>\n",
       "    <tr>\n",
       "      <th>3</th>\n",
       "      <td>118</td>\n",
       "      <td>3.48</td>\n",
       "      <td>32.28</td>\n",
       "      <td>29.14</td>\n",
       "      <td>52</td>\n",
       "      <td>46</td>\n",
       "      <td>0.08</td>\n",
       "      <td>3.81</td>\n",
       "      <td>Present</td>\n",
       "      <td>0</td>\n",
       "    </tr>\n",
       "    <tr>\n",
       "      <th>4</th>\n",
       "      <td>170</td>\n",
       "      <td>6.41</td>\n",
       "      <td>38.03</td>\n",
       "      <td>31.99</td>\n",
       "      <td>51</td>\n",
       "      <td>58</td>\n",
       "      <td>7.50</td>\n",
       "      <td>24.26</td>\n",
       "      <td>Present</td>\n",
       "      <td>1</td>\n",
       "    </tr>\n",
       "    <tr>\n",
       "      <th>5</th>\n",
       "      <td>134</td>\n",
       "      <td>3.50</td>\n",
       "      <td>27.78</td>\n",
       "      <td>25.99</td>\n",
       "      <td>60</td>\n",
       "      <td>49</td>\n",
       "      <td>13.60</td>\n",
       "      <td>57.34</td>\n",
       "      <td>Present</td>\n",
       "      <td>1</td>\n",
       "    </tr>\n",
       "  </tbody>\n",
       "</table>\n",
       "</div>"
      ],
      "text/plain": [
       "           sbp   ldl  adiposity  obesity  typea  age  tobacco  alcohol  \\\n",
       "row.names                                                                \n",
       "1          160  5.73      23.11    25.30     49   52    12.00    97.20   \n",
       "2          144  4.41      28.61    28.87     55   63     0.01     2.06   \n",
       "3          118  3.48      32.28    29.14     52   46     0.08     3.81   \n",
       "4          170  6.41      38.03    31.99     51   58     7.50    24.26   \n",
       "5          134  3.50      27.78    25.99     60   49    13.60    57.34   \n",
       "\n",
       "           famhist  chd  \n",
       "row.names                \n",
       "1          Present    1  \n",
       "2           Absent    1  \n",
       "3          Present    0  \n",
       "4          Present    1  \n",
       "5          Present    1  "
      ]
     },
     "execution_count": 22,
     "metadata": {},
     "output_type": "execute_result"
    }
   ],
   "source": [
    "import pandas as pd\n",
    "\n",
    "df_heart = pd.read_csv(\n",
    "    \"https://hastie.su.domains/ElemStatLearn/datasets/SAheart.data\",\n",
    "    sep=\",\",\n",
    "    header=0,\n",
    "    index_col=0,\n",
    ")\n",
    "columns_ordered = [\n",
    "    \"sbp\",\n",
    "    \"ldl\",\n",
    "    \"adiposity\",\n",
    "    \"obesity\",\n",
    "    \"typea\",\n",
    "    \"age\",\n",
    "    \"tobacco\",\n",
    "    \"alcohol\",\n",
    "    \"famhist\",\n",
    "    \"chd\",\n",
    "]\n",
    "missing = [c for c in columns_ordered if c not in df_heart.columns]\n",
    "if missing:\n",
    "    raise KeyError(f\"Missing columns in df_heart: {missing}\")\n",
    "\n",
    "df_heart = df_heart[columns_ordered]\n",
    "df_heart.head()"
   ]
  },
  {
   "cell_type": "code",
   "execution_count": 23,
   "id": "f104ae74",
   "metadata": {},
   "outputs": [],
   "source": [
    "import numpy as np\n",
    "\n",
    "# standarize all columns except famhist\n",
    "df_heart[\"famhist\"] = df_heart[\"famhist\"].map({\"Present\": 1, \"Absent\": 0})\n",
    "\n",
    "columns_to_log_transform = [\"tobacco\", \"alcohol\"]\n",
    "for column in columns_to_log_transform:\n",
    "    df_heart[column] = np.log1p(df_heart[column])\n",
    "\n",
    "df_heart_standarized = (df_heart - df_heart.mean()) / df_heart.std()\n",
    "df_heart_standarized[\"famhist\"] = df_heart[\"famhist\"]\n",
    "\n",
    "# Extract Y before standardization\n",
    "Y = df_heart[\"chd\"]\n",
    "\n",
    "df_heart_standarized = (df_heart - df_heart.mean()) / df_heart.std()\n",
    "df_heart_standarized[\"famhist\"] = df_heart[\"famhist\"]\n",
    "\n",
    "X = df_heart_standarized.drop(columns=[\"chd\"])"
   ]
  },
  {
   "cell_type": "markdown",
   "id": "6d5029b2",
   "metadata": {},
   "source": [
    "# Classification\n",
    "\n",
    "Solve a relevant classification problem for your data and statistically evaluate your result.\n",
    "\n",
    "The tasks will closely mirror what you just did in the last section.\n",
    "\n",
    "The 3 methods we will compare are:\n",
    "1. A baseline\n",
    "2. Logistic regression\n",
    "3. And 1 of the following methods: *ANN, CT, KNN or NB*\n"
   ]
  },
  {
   "cell_type": "markdown",
   "id": "62b74e4a",
   "metadata": {},
   "source": [
    "## Part 1) classification problem\n",
    "\n",
    "**Question:** Explain which classification problem you have chosen to solve. Is it a multi-class or binary classification problem?\n",
    "\n",
    "**Answer:** For this part of the report we are trying to predict whether a person has **CHD or not**, i.e it is a binary classification problem."
   ]
  },
  {
   "cell_type": "markdown",
   "id": "ce9400d3",
   "metadata": {},
   "source": [
    "## Part 2) Model training"
   ]
  },
  {
   "cell_type": "markdown",
   "id": "38d8d810",
   "metadata": {},
   "source": [
    "### 2.1) Baseline model\n",
    "\n",
    "The baseline is be a model which computes the largest class on the training data.\n",
    "\n",
    "And predicts everything in the test-data as belonging to that class. (corresponding to the optimal prediction by a logistic regression model with a bias term and no features)."
   ]
  },
  {
   "cell_type": "code",
   "execution_count": 25,
   "id": "89fb0c1e",
   "metadata": {},
   "outputs": [],
   "source": [
    "from sklearn.model_selection import train_test_split\n",
    "\n",
    "# Test the baseline model\n",
    "X_train, X_test, y_train, y_test = train_test_split(\n",
    "    X, Y, test_size=0.2, random_state=42\n",
    ")"
   ]
  },
  {
   "cell_type": "code",
   "execution_count": 42,
   "id": "ffc11e9e",
   "metadata": {},
   "outputs": [
    {
     "name": "stdout",
     "output_type": "stream",
     "text": [
      "Baseline Model Results:\n",
      "Most frequent class: 0\n",
      "Accuracy: 0.63\n",
      "Error Rate: 0.37\n",
      "\n",
      "Class distribution in training data:\n",
      "chd\n",
      "0    0.658537\n",
      "1    0.341463\n",
      "Name: proportion, dtype: float64\n"
     ]
    }
   ],
   "source": [
    "# Baseline Model: Predicts the most frequent class\n",
    "class BaselineClassifier:\n",
    "    def __init__(self):\n",
    "        self.most_frequent_class = None\n",
    "\n",
    "    def fit(self, y_train):\n",
    "        \"\"\"Find the most frequent class in training data\"\"\"\n",
    "        self.most_frequent_class = y_train.mode()[0]\n",
    "        return self\n",
    "\n",
    "    def predict(self, n_samples):\n",
    "        \"\"\"Predict the most frequent class for all samples\"\"\"\n",
    "        return np.full(n_samples, self.most_frequent_class)\n",
    "\n",
    "    def score(self, X_test, y_test):\n",
    "        \"\"\"Calculate accuracy\"\"\"\n",
    "        predictions = self.predict(len(X_test))\n",
    "        return np.mean(predictions == y_test)\n",
    "\n",
    "\n",
    "# Train and evaluate the baseline model\n",
    "baseline_model = BaselineClassifier().fit(y_train)\n",
    "\n",
    "# Make predictions\n",
    "baseline_test_predictions = baseline_model.predict(len(y_test))\n",
    "baseline_accuracy = baseline_model.score(X_test, y_test)\n",
    "baseline_error_rate = 1 - baseline_accuracy\n",
    "\n",
    "print(\"Baseline Model Results:\")\n",
    "print(f\"Most frequent class: {baseline_model.most_frequent_class}\")\n",
    "print(f\"Accuracy: {round(baseline_accuracy, 2)}\")\n",
    "print(f\"Error Rate: {round(baseline_error_rate, 2)}\")\n",
    "print()\n",
    "print(\"Class distribution in training data:\")\n",
    "print(y_train.value_counts(normalize=True))"
   ]
  },
  {
   "cell_type": "markdown",
   "id": "9ddcbf5e",
   "metadata": {},
   "source": [
    "**Baselint Results**:\n",
    "\n",
    "The baseline predicts the most frequent class (CHD = 0) for all samples and it achieves ~63.4% accuracy by always predicting \"no heart disease\""
   ]
  },
  {
   "cell_type": "markdown",
   "id": "2916f267",
   "metadata": {},
   "source": [
    "### 2.2) Logistic Regression model\n",
    "\n",
    "For logistic regression, we will use a regularization parameter λ ≥ 0 to control complexity.\n",
    "\n",
    "We recommend this choice is made based on a trial run, which you do not need to report.\n",
    "\n",
    "Describe which parameter you have chosen and the possible values of the parameters you will examine"
   ]
  },
  {
   "cell_type": "code",
   "execution_count": 51,
   "id": "1a645a28",
   "metadata": {},
   "outputs": [
    {
     "name": "stdout",
     "output_type": "stream",
     "text": [
      "Trial run to find optimal regularization parameter λ:\n",
      "------------------------------------------------------------\n",
      "Best λ (lambda): 26.37\n",
      "Best C (1/λ): 0.04\n",
      "Best CV accuracy: 0.71\n"
     ]
    },
    {
     "data": {
      "image/png": "[encoded data removed]",
      "text/plain": [
       "<Figure size 1000x600 with 1 Axes>"
      ]
     },
     "metadata": {},
     "output_type": "display_data"
    },
    {
     "name": "stdout",
     "output_type": "stream",
     "text": [
      "\n",
      "Logistic Regression Model Results (on test set):\n",
      "Selected λ: 26.37\n",
      "Accuracy: 0.73\n",
      "Error Rate: 0.27\n",
      "\n",
      "For 2-level cross-validation, we will examine:\n",
      "λ values in range: [0.0, 1000.0]\n"
     ]
    }
   ],
   "source": [
    "from sklearn.linear_model import LogisticRegression\n",
    "from sklearn.model_selection import cross_val_score\n",
    "import matplotlib.pyplot as plt\n",
    "\n",
    "# Define range of lambda values (regularization parameter)\n",
    "# Note: sklearn uses C = 1/lambda, where C is the inverse of regularization strength\n",
    "# Smaller C means stronger regularization (larger lambda)\n",
    "lambda_values = np.logspace(-3, 3, 20)  # Lambda from 0.001 to 1000\n",
    "C_values = 1 / lambda_values  # Convert to sklearn's C parameter\n",
    "\n",
    "# Perform a quick trial run to find suitable lambda range\n",
    "print(\"Trial run to find optimal regularization parameter λ:\")\n",
    "print(\"-\" * 60)\n",
    "\n",
    "best_score = 0\n",
    "best_lambda = None\n",
    "best_C = None\n",
    "scores = []\n",
    "\n",
    "for lambda_val, C_val in zip(lambda_values, C_values):\n",
    "    # Use 5-fold cross-validation for quick assessment\n",
    "    model = LogisticRegression(C=C_val, max_iter=1000, random_state=42)\n",
    "    cv_scores = cross_val_score(model, X_train, y_train, cv=5, scoring=\"accuracy\")\n",
    "    mean_score = cv_scores.mean()\n",
    "    scores.append(mean_score)\n",
    "\n",
    "    if mean_score > best_score:\n",
    "        best_score = mean_score\n",
    "        best_lambda = lambda_val\n",
    "        best_C = C_val\n",
    "\n",
    "print(f\"Best λ (lambda): {round(best_lambda, 2)}\")\n",
    "print(f\"Best C (1/λ): {round(best_C, 2)}\")\n",
    "print(f\"Best CV accuracy: {round(best_score, 2)}\")\n",
    "\n",
    "# Visualize the relationship between lambda and performance\n",
    "plt.figure(figsize=(10, 6))\n",
    "plt.semilogx(lambda_values, scores, \"b-o\", linewidth=2, markersize=6)\n",
    "plt.axvline(\n",
    "    x=best_lambda, color=\"r\", linestyle=\"--\", label=f\"Best λ = {round(best_lambda, 2)}\"\n",
    ")\n",
    "plt.xlabel(\"λ (Regularization Parameter)\", fontsize=12)\n",
    "plt.ylabel(\"Cross-Validation Accuracy\", fontsize=12)\n",
    "plt.title(\"Logistic Regression Performance vs Regularization Parameter\", fontsize=14)\n",
    "plt.grid(True, alpha=0.3)\n",
    "plt.legend()\n",
    "plt.tight_layout()\n",
    "plt.show()\n",
    "\n",
    "# Train final model with best parameter\n",
    "final_log_reg = LogisticRegression(C=best_C, max_iter=1000, random_state=42)\n",
    "final_log_reg.fit(X_train, y_train)\n",
    "\n",
    "# Evaluate on test set\n",
    "log_reg_predictions = final_log_reg.predict(X_test)\n",
    "log_reg_accuracy = final_log_reg.score(X_test, y_test)\n",
    "log_reg_error_rate = 1 - log_reg_accuracy\n",
    "\n",
    "print()\n",
    "print(\"Logistic Regression Model Results (on test set):\")\n",
    "print(f\"Selected λ: {round(best_lambda, 2)}\")\n",
    "print(f\"Accuracy: {round(log_reg_accuracy, 2)}\")\n",
    "print(f\"Error Rate: {round(log_reg_error_rate, 2)}\")\n",
    "\n",
    "# For the 2-level cross-validation, we will examine these lambda values:\n",
    "print()\n",
    "print(\"For 2-level cross-validation, we will examine:\")\n",
    "print(\n",
    "    f\"λ values in range: [{round(lambda_values.min(), 2)}, {round(lambda_values.max(), 2)}]\"\n",
    ")"
   ]
  },
  {
   "cell_type": "markdown",
   "id": "71128b0f",
   "metadata": {},
   "source": [
    "#### Model Implementation Notes:\n",
    "\n",
    "**Logistic Regression Model:**\n",
    "- Tested λ values from 0.001 to 1000 using 5-fold cross-validation\n",
    "- Best performance with λ = 26.37 (moderate regularization)\n",
    "- Converted data to numpy arrays to ensure clean numerical data\n",
    "- Achieves ~73.1% accuracy, a ~9.7% improvement over baseline\n",
    "\n",
    "**Next Steps:**\n",
    "- Implement a third model (ANN, CT, KNN, or NB) in section 2.3\n",
    "- Perform 2-level cross-validation to properly evaluate all models\n",
    "- Conduct statistical comparison using McNemar's test or paired t-test"
   ]
  },
  {
   "cell_type": "markdown",
   "id": "59671ad1",
   "metadata": {},
   "source": [
    "### 2.3) Method 2 Model (*ANN, CT, KNN or NB*)"
   ]
  },
  {
   "cell_type": "markdown",
   "id": "16664030",
   "metadata": {},
   "source": [
    "## Part 3) 2-level Cross-validation\n",
    "- Use 2-level cross-validation to create a table similar to Table 2, but now comparing the logistic regression, method 2, and baseline.\n",
    "- The table should once more include the selected parameters, and as an error measure we will use the error rate:\n",
    "$$E = \\frac{\\text{Number of misclassified observations}}{N^{test}}$$\n",
    "\n",
    "- Once more, make sure to re-use the outer validation splits to admit statistical evaluation. Briefly discuss the result."
   ]
  },
  {
   "cell_type": "code",
   "execution_count": 50,
   "id": "04844b18",
   "metadata": {},
   "outputs": [
    {
     "name": "stdout",
     "output_type": "stream",
     "text": [
      "\n",
      "============================================================\n",
      "MODEL COMPARISON SUMMARY (Simple Train-Test Split)\n",
      "============================================================\n",
      "              Model   Parameter  Accuracy  Error Rate\n",
      "           Baseline         N/A  0.634409    0.365591\n",
      "Logistic Regression λ = 26.3665  0.731183    0.268817\n",
      "============================================================\n",
      "\n",
      "Improvement over baseline: 9.68%\n",
      "Error rate reduction: 9.68%\n"
     ]
    }
   ],
   "source": [
    "results_summary = pd.DataFrame(\n",
    "    {\n",
    "        \"Model\": [\"Baseline\", \"Logistic Regression\"],\n",
    "        \"Parameter\": [\"N/A\", f\"λ = {best_lambda:.4f}\"],\n",
    "        \"Accuracy\": [baseline_accuracy, log_reg_accuracy],\n",
    "        \"Error Rate\": [baseline_error_rate, log_reg_error_rate],\n",
    "    }\n",
    ")\n",
    "\n",
    "print(\"\\n\" + \"=\" * 60)\n",
    "print(\"MODEL COMPARISON SUMMARY (Simple Train-Test Split)\")\n",
    "print(\"=\" * 60)\n",
    "print(results_summary.to_string(index=False))\n",
    "print(\"=\" * 60)\n",
    "print(\n",
    "    f\"\\nImprovement over baseline: {(log_reg_accuracy - baseline_accuracy) * 100:.2f}%\"\n",
    ")\n",
    "print(f\"Error rate reduction: {(baseline_error_rate - log_reg_error_rate) * 100:.2f}%\")"
   ]
  },
  {
   "cell_type": "markdown",
   "id": "d8d892d0",
   "metadata": {},
   "source": [
    "## Part 4) Statiscal Evaluation\n",
    "Perform a statistical evaluation of your three models similar to the previous section.\n",
    "\n",
    "That is, compare the three models pairwise. We will once more allow some freedom in what test to choose. Therefore, choose either:\n",
    "- Setup I (11.3): Use McNemar’s test described in 11.3.2\n",
    "- Setup II (11.4): Use the method described in 11.4.1\n",
    "\n",
    "Include p-values and confidence intervals for the three pairwise tests in your report and conclude on the results:\n",
    "- Is one model better than the other?\n",
    "- Are the two models better than the baseline?\n",
    "- Are some of the models identical?\n",
    "- What recommendations would you make based on what you’ve learned?"
   ]
  },
  {
   "cell_type": "markdown",
   "id": "7fc1944c",
   "metadata": {},
   "source": [
    "## Part 5) Logistic regression model training\n",
    "\n",
    "1. Train a logistic regression model using a suitable value of λ (see previous exercise).\n",
    "\n",
    "2. Explain how the logistic regression model make a prediction.\n",
    "\n",
    "3. Are the same features deemed relevant as for the regression part of the report?"
   ]
  }
 ],
 "metadata": {
  "kernelspec": {
   "display_name": "ml",
   "language": "python",
   "name": "python3"
  },
  "language_info": {
   "codemirror_mode": {
    "name": "ipython",
    "version": 3
   },
   "file_extension": ".py",
   "mimetype": "text/x-python",
   "name": "python",
   "nbconvert_exporter": "python",
   "pygments_lexer": "ipython3",
   "version": "3.11.13"
  }
 },
 "nbformat": 4,
 "nbformat_minor": 5
}
