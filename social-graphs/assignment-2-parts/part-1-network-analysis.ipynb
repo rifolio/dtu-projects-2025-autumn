{
 "cells": [
  {
   "cell_type": "markdown",
   "id": "c73a7346",
   "metadata": {},
   "source": [
    "# Part 1: Analyze the network\n",
    "\n",
    "The questions in this part are based on Lecture 5.\n",
    "\n",
    "* Present an analysis/description of the network of bands/artists using tools from Lecture 5. Imagine that you have been tasked with presenting the important facts about the network to an audience who knows about network science, but doesn't know about this particular network.\n",
    "   - It's OK to also use basic concepts like degree distributions (even though they're from week 4) in your analysis. That way you can make the analysis a standalone, coherent thing.\n",
    "   - I would like you to include concepts like centrality and assortativity in your analysis.\n",
    "   - Use a network backbone in your analysis.\n",
    "   - In addition to standard distribution plots (e.g. degree distributions, etc), your analysis should also include at least one network visualization (but it doesn't have to display the entire network, you can also visualize a network backbone).\n",
    "   - **Note**: As I write above, an important part of the exercise consists is *selecting the right elements of the lecture* to create a meaningful analysis. So don't solve this part by going exhaustive and just calculating everything you can think of in one massive analysis. Try to focus on using what you've learned to characterize the network."
   ]
  }
 ],
 "metadata": {
  "language_info": {
   "name": "python"
  }
 },
 "nbformat": 4,
 "nbformat_minor": 5
}
