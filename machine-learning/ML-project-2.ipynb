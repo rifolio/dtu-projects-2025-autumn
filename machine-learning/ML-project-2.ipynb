{
 "cells": [
  {
   "cell_type": "markdown",
   "id": "b62ee1f0",
   "metadata": {},
   "source": [
    "Group 121:\n",
    "* Juan Manuel Rodriguez\n",
    "* Vladyslav Horbatenko\n",
    "* Aryan Mirzazadeh"
   ]
  },
  {
   "cell_type": "code",
   "execution_count": 30,
   "id": "c231eb15",
   "metadata": {},
   "outputs": [],
   "source": [
    "import pandas as pd\n",
    "import numpy as np\n",
    "import matplotlib.pyplot as plt\n",
    "import seaborn as sns\n",
    "from sklearn.preprocessing import MinMaxScaler"
   ]
  },
  {
   "cell_type": "code",
   "execution_count": 21,
   "id": "385f7dd9",
   "metadata": {},
   "outputs": [
    {
     "data": {
      "text/html": [
       "<div>\n",
       "<style scoped>\n",
       "    .dataframe tbody tr th:only-of-type {\n",
       "        vertical-align: middle;\n",
       "    }\n",
       "\n",
       "    .dataframe tbody tr th {\n",
       "        vertical-align: top;\n",
       "    }\n",
       "\n",
       "    .dataframe thead th {\n",
       "        text-align: right;\n",
       "    }\n",
       "</style>\n",
       "<table border=\"1\" class=\"dataframe\">\n",
       "  <thead>\n",
       "    <tr style=\"text-align: right;\">\n",
       "      <th></th>\n",
       "      <th>sbp</th>\n",
       "      <th>ldl</th>\n",
       "      <th>adiposity</th>\n",
       "      <th>obesity</th>\n",
       "      <th>typea</th>\n",
       "      <th>age</th>\n",
       "      <th>tobacco</th>\n",
       "      <th>alcohol</th>\n",
       "      <th>famhist</th>\n",
       "      <th>chd</th>\n",
       "    </tr>\n",
       "    <tr>\n",
       "      <th>row.names</th>\n",
       "      <th></th>\n",
       "      <th></th>\n",
       "      <th></th>\n",
       "      <th></th>\n",
       "      <th></th>\n",
       "      <th></th>\n",
       "      <th></th>\n",
       "      <th></th>\n",
       "      <th></th>\n",
       "      <th></th>\n",
       "    </tr>\n",
       "  </thead>\n",
       "  <tbody>\n",
       "    <tr>\n",
       "      <th>1</th>\n",
       "      <td>160</td>\n",
       "      <td>5.73</td>\n",
       "      <td>23.11</td>\n",
       "      <td>25.30</td>\n",
       "      <td>49</td>\n",
       "      <td>52</td>\n",
       "      <td>12.00</td>\n",
       "      <td>97.20</td>\n",
       "      <td>Present</td>\n",
       "      <td>1</td>\n",
       "    </tr>\n",
       "    <tr>\n",
       "      <th>2</th>\n",
       "      <td>144</td>\n",
       "      <td>4.41</td>\n",
       "      <td>28.61</td>\n",
       "      <td>28.87</td>\n",
       "      <td>55</td>\n",
       "      <td>63</td>\n",
       "      <td>0.01</td>\n",
       "      <td>2.06</td>\n",
       "      <td>Absent</td>\n",
       "      <td>1</td>\n",
       "    </tr>\n",
       "    <tr>\n",
       "      <th>3</th>\n",
       "      <td>118</td>\n",
       "      <td>3.48</td>\n",
       "      <td>32.28</td>\n",
       "      <td>29.14</td>\n",
       "      <td>52</td>\n",
       "      <td>46</td>\n",
       "      <td>0.08</td>\n",
       "      <td>3.81</td>\n",
       "      <td>Present</td>\n",
       "      <td>0</td>\n",
       "    </tr>\n",
       "    <tr>\n",
       "      <th>4</th>\n",
       "      <td>170</td>\n",
       "      <td>6.41</td>\n",
       "      <td>38.03</td>\n",
       "      <td>31.99</td>\n",
       "      <td>51</td>\n",
       "      <td>58</td>\n",
       "      <td>7.50</td>\n",
       "      <td>24.26</td>\n",
       "      <td>Present</td>\n",
       "      <td>1</td>\n",
       "    </tr>\n",
       "    <tr>\n",
       "      <th>5</th>\n",
       "      <td>134</td>\n",
       "      <td>3.50</td>\n",
       "      <td>27.78</td>\n",
       "      <td>25.99</td>\n",
       "      <td>60</td>\n",
       "      <td>49</td>\n",
       "      <td>13.60</td>\n",
       "      <td>57.34</td>\n",
       "      <td>Present</td>\n",
       "      <td>1</td>\n",
       "    </tr>\n",
       "  </tbody>\n",
       "</table>\n",
       "</div>"
      ],
      "text/plain": [
       "           sbp   ldl  adiposity  obesity  typea  age  tobacco  alcohol  \\\n",
       "row.names                                                                \n",
       "1          160  5.73      23.11    25.30     49   52    12.00    97.20   \n",
       "2          144  4.41      28.61    28.87     55   63     0.01     2.06   \n",
       "3          118  3.48      32.28    29.14     52   46     0.08     3.81   \n",
       "4          170  6.41      38.03    31.99     51   58     7.50    24.26   \n",
       "5          134  3.50      27.78    25.99     60   49    13.60    57.34   \n",
       "\n",
       "           famhist  chd  \n",
       "row.names                \n",
       "1          Present    1  \n",
       "2           Absent    1  \n",
       "3          Present    0  \n",
       "4          Present    1  \n",
       "5          Present    1  "
      ]
     },
     "execution_count": 21,
     "metadata": {},
     "output_type": "execute_result"
    }
   ],
   "source": [
    "df_heart = pd.read_csv(\n",
    "    \"https://hastie.su.domains/ElemStatLearn/datasets/SAheart.data\",\n",
    "    sep=\",\",\n",
    "    header=0,\n",
    "    index_col=0,\n",
    ")\n",
    "columns_ordered = [\n",
    "    \"sbp\",\n",
    "    \"ldl\",\n",
    "    \"adiposity\",\n",
    "    \"obesity\",\n",
    "    \"typea\",\n",
    "    \"age\",\n",
    "    \"tobacco\",\n",
    "    \"alcohol\",\n",
    "    \"famhist\",\n",
    "    \"chd\",\n",
    "]\n",
    "missing = [c for c in columns_ordered if c not in df_heart.columns]\n",
    "if missing:\n",
    "    raise KeyError(f\"Missing columns in df_heart: {missing}\")\n",
    "\n",
    "df_heart = df_heart[columns_ordered]\n",
    "df_heart.head()"
   ]
  },
  {
   "cell_type": "code",
   "execution_count": 22,
   "id": "c0e89d5c",
   "metadata": {},
   "outputs": [],
   "source": [
    "# standarize all columns except famhist\n",
    "df_heart[\"famhist\"] = df_heart[\"famhist\"].map({\"Present\": 1, \"Absent\": 0})\n",
    "\n",
    "columns_to_log_transform = [\"tobacco\", \"alcohol\"]\n",
    "for column in columns_to_log_transform:\n",
    "    df_heart[column] = np.log1p(df_heart[column])\n",
    "\n",
    "df_heart_standarized = (df_heart - df_heart.mean()) / df_heart.std()\n",
    "df_heart_standarized[\"famhist\"] = df_heart[\"famhist\"]\n",
    "\n",
    "\n",
    "# Extract Y before standardization\n",
    "Y = df_heart[\"chd\"]\n",
    "\n",
    "df_heart_standarized = (df_heart - df_heart.mean()) / df_heart.std()\n",
    "df_heart_standarized[\"famhist\"] = df_heart[\"famhist\"]\n",
    "\n",
    "# Now use the original Y\n",
    "X = df_heart_standarized.drop(columns=[\"chd\"])"
   ]
  },
  {
   "cell_type": "code",
   "execution_count": 25,
   "id": "1e73b717",
   "metadata": {},
   "outputs": [],
   "source": [
    "from sklearn.model_selection import train_test_split\n",
    "\n",
    "X_train, X_test, Y_train, Y_test = train_test_split(\n",
    "    X, Y, test_size=0.2, random_state=42\n",
    ")"
   ]
  },
  {
   "cell_type": "code",
   "execution_count": 26,
   "id": "db405164",
   "metadata": {},
   "outputs": [
    {
     "name": "stdout",
     "output_type": "stream",
     "text": [
      "GaussianNB training accuracy: 0.6989247311827957\n"
     ]
    }
   ],
   "source": [
    "from sklearn.naive_bayes import GaussianNB\n",
    "\n",
    "\n",
    "clf = GaussianNB()\n",
    "clf.fit(X_train, Y_train)\n",
    "print(\"GaussianNB training accuracy:\", clf.score(X_test, Y_test))"
   ]
  },
  {
   "cell_type": "code",
   "execution_count": 27,
   "id": "738d2aff",
   "metadata": {},
   "outputs": [
    {
     "name": "stdout",
     "output_type": "stream",
     "text": [
      "BernoulliNB training accuracy: 0.6451612903225806\n"
     ]
    }
   ],
   "source": [
    "from sklearn.naive_bayes import BernoulliNB\n",
    "\n",
    "clf = BernoulliNB()\n",
    "clf.fit(X_train, Y_train)\n",
    "print(\"BernoulliNB training accuracy:\", clf.score(X_test, Y_test))"
   ]
  },
  {
   "cell_type": "code",
   "execution_count": 31,
   "id": "1d58a7e1",
   "metadata": {},
   "outputs": [],
   "source": [
    "# Scale data for MultinomialNB (requires non-negative values)\n",
    "scaler = MinMaxScaler()\n",
    "X_train_scaled = scaler.fit_transform(X_train)\n",
    "X_test_scaled = scaler.transform(X_test)"
   ]
  },
  {
   "cell_type": "code",
   "execution_count": 32,
   "id": "5e9b7dc4",
   "metadata": {},
   "outputs": [
    {
     "name": "stdout",
     "output_type": "stream",
     "text": [
      "MultinomialNB training accuracy: 0.6344086021505376\n"
     ]
    }
   ],
   "source": [
    "from sklearn import naive_bayes as nb\n",
    "\n",
    "clf = nb.MultinomialNB()\n",
    "clf.fit(X_train_scaled, Y_train)\n",
    "print(\"MultinomialNB training accuracy:\", clf.score(X_test_scaled, Y_test))"
   ]
  }
 ],
 "metadata": {
  "kernelspec": {
   "display_name": "ml",
   "language": "python",
   "name": "python3"
  },
  "language_info": {
   "codemirror_mode": {
    "name": "ipython",
    "version": 3
   },
   "file_extension": ".py",
   "mimetype": "text/x-python",
   "name": "python",
   "nbconvert_exporter": "python",
   "pygments_lexer": "ipython3",
   "version": "3.11.13"
  }
 },
 "nbformat": 4,
 "nbformat_minor": 5
}
