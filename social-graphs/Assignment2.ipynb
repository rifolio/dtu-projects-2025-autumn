{
 "cells": [
  {
   "cell_type": "markdown",
   "id": "1529dcfb",
   "metadata": {},
   "source": [
    "## Social graphs & intercations\n",
    "- Assignment 2\n",
    "- Submission date: November 4th 2025\n",
    "\n",
    "### Group 101\n",
    "- Aryan Mirzazadeh - s204489\n",
    "- Juan Manuel Rodriguez - s253505 \n",
    "- Vladyslav Horbatenko - s254355\n",
    "\n",
    "### Contributions\n",
    "\n",
    "- Aryan:\n",
    "- Juan:\n",
    "- Vlad:"
   ]
  },
  {
   "cell_type": "markdown",
   "id": "a6eed26a",
   "metadata": {},
   "source": [
    "# Formalia:\n",
    "\n",
    "Please read the [assignment overview page](https://github.com/suneman/socialgraphs2025/wiki/Assignments) carefully before proceeding. This page contains information about formatting (including formats etc), group sizes, and many other aspects of handing in the assignment. \n",
    "\n",
    "_If you fail to follow those simple instructions, it will negatively impact your grade!_\n",
    "\n",
    "**Due date and time**: The assignment is due on Tuesday November 4th, 2025 at 23:55. Hand in your IPython notebook file (with extension `.ipynb`) via DTU Learn\n",
    "In the exercises below, I describe the exercises in a general way. Drawing in the right parts of the exercises is part of the assignment. (That way we're helping you get a little bit more ready for the Final Project, where you have to decide what information to include in your report and analysis)."
   ]
  }
 ],
 "metadata": {
  "language_info": {
   "name": "python"
  }
 },
 "nbformat": 4,
 "nbformat_minor": 5
}
