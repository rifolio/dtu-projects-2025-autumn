{
 "cells": [
  {
   "cell_type": "markdown",
   "id": "4f6f0245",
   "metadata": {},
   "source": [
    "# Part 2: Genres and communities and plotting \n",
    "\n",
    "The questions below are based on Lecture 7, part 2.\n",
    "\n",
    "* Write about genres and modularity.\n",
    "* Detect the communities, discuss the value of modularity in comparison to the genres.\n",
    "* Calculate the matrix $D$ and discuss your findings.\n",
    "* Plot the communities and comment on your results."
   ]
  }
 ],
 "metadata": {
  "language_info": {
   "name": "python"
  }
 },
 "nbformat": 4,
 "nbformat_minor": 5
}
